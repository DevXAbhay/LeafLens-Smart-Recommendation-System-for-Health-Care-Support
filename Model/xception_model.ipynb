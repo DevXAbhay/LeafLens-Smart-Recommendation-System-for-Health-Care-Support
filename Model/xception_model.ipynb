{
  "cells": [
    {
      "cell_type": "markdown",
      "id": "ff2dadaf-d91c-453f-a29f-2f30a4592627",
      "metadata": {
        "id": "ff2dadaf-d91c-453f-a29f-2f30a4592627"
      },
      "source": [
        "## Model to Identify Plant Leaves\n",
        "\n",
        "## Abstract\n",
        "This project focuses on developing an automated system for identifying various species of leaves using the Xception model, a deep learning architecture known for its efficiency in image classification tasks. The model is trained on a diverse dataset of plant leaves to enhance accuracy and reliability.\n",
        "\n",
        "## Introduction\n",
        "With the increasing interest in plant biodiversity, the need for automated identification systems has become paramount. This project aims to leverage advanced machine learning techniques to accurately classify plant leaves based on image data.\n",
        "\n",
        "## Project Overview\n",
        "- **Objective**: To create a robust system capable of identifying and classifying leaf species from images.\n",
        "- **Dataset**: The dataset comprises images of 83 different leaf species, totaling over 7,000 images.\n",
        "- **Model Architecture**: The Xception model is utilized due to its superior performance in handling image data through depthwise separable convolutions."
      ]
    },
    {
      "cell_type": "code",
      "execution_count": 5,
      "id": "1007688d-d94a-48b9-b3f6-6f9d5a546a88",
      "metadata": {
        "id": "1007688d-d94a-48b9-b3f6-6f9d5a546a88"
      },
      "outputs": [],
      "source": [
        "import tensorflow as tf\n",
        "import numpy as np\n",
        "import matplotlib.pyplot as plt"
      ]
    },
    {
      "cell_type": "code",
      "execution_count": 6,
      "id": "c8b055dc-6361-4146-b37f-76343cce0d34",
      "metadata": {
        "colab": {
          "base_uri": "https://localhost:8080/"
        },
        "id": "c8b055dc-6361-4146-b37f-76343cce0d34",
        "outputId": "93bbc991-3d90-46ec-e484-ba05cafc8ac0"
      },
      "outputs": [
        {
          "output_type": "stream",
          "name": "stdout",
          "text": [
            "Found 6966 files belonging to 80 classes.\n",
            "['Aloevera', 'Amla', 'Amruthaballi', 'Arali', 'Astma_weed', 'Badipala', 'Balloon_Vine', 'Bamboo', 'Beans', 'Betel', 'Bhrami', 'Bringaraja', 'Caricature', 'Castor', 'Catharanthus', 'Chakte', 'Chilly', 'Citron lime (herelikai)', 'Coffee', 'Common rue(naagdalli)', 'Coriender', 'Curry', 'Doddpathre', 'Drumstick', 'Ekka', 'Eucalyptus', 'Ganigale', 'Ganike', 'Gasagase', 'Ginger', 'Globe Amarnath', 'Guava', 'Henna', 'Hibiscus', 'Honge', 'Insulin', 'Jackfruit', 'Jasmine', 'Kambajala', 'Kasambruga', 'Kohlrabi', 'Lantana', 'Lemon', 'Lemongrass', 'Malabar_Nut', 'Malabar_Spinach', 'Mango', 'Marigold', 'Mint', 'Neem', 'Nelavembu', 'Nerale', 'Nooni', 'Onion', 'Padri', 'Palak(Spinach)', 'Papaya', 'Parijatha', 'Pea', 'Pepper', 'Pomoegranate', 'Pumpkin', 'Raddish', 'Rose', 'Sampige', 'Sapota', 'Seethaashoka', 'Seethapala', 'Spinach1', 'Tamarind', 'Taro', 'Tecoma', 'Thumbe', 'Tomato', 'Tulsi', 'Turmeric', 'ashoka', 'camphor', 'kamakasturi', 'kepala']\n"
          ]
        }
      ],
      "source": [
        "dataset = tf.keras.preprocessing.image_dataset_from_directory(\n",
        "    '//content//drive//MyDrive//LEAFLENS//Medicinal Leaf dataset',\n",
        "    shuffle=True,\n",
        "    batch_size=32,\n",
        "    image_size=(299, 299),\n",
        ")\n",
        "\n",
        "labels = dataset.class_names\n",
        "print(labels)\n"
      ]
    },
    {
      "cell_type": "code",
      "source": [
        "from google.colab import drive\n",
        "drive.mount('/content/drive')"
      ],
      "metadata": {
        "colab": {
          "base_uri": "https://localhost:8080/"
        },
        "id": "CI9z6n5308xe",
        "outputId": "c5ec7625-4886-462b-95c2-7a98d6a10c6a"
      },
      "id": "CI9z6n5308xe",
      "execution_count": 7,
      "outputs": [
        {
          "output_type": "stream",
          "name": "stdout",
          "text": [
            "Drive already mounted at /content/drive; to attempt to forcibly remount, call drive.mount(\"/content/drive\", force_remount=True).\n"
          ]
        }
      ]
    },
    {
      "cell_type": "markdown",
      "id": "390f99d2",
      "metadata": {
        "id": "390f99d2"
      },
      "source": [
        "## Dataset Description\n",
        "- The dataset consists of images sourced from various botanical collections.\n",
        "- Each class corresponds to a specific leaf species, facilitating supervised learning."
      ]
    },
    {
      "cell_type": "code",
      "execution_count": 8,
      "id": "b6e115dc-5de0-4e13-9509-0652ff5f1c73",
      "metadata": {
        "colab": {
          "base_uri": "https://localhost:8080/"
        },
        "id": "b6e115dc-5de0-4e13-9509-0652ff5f1c73",
        "outputId": "83dd4d8a-ca55-4dae-92cc-18ef4284fecf"
      },
      "outputs": [
        {
          "output_type": "stream",
          "name": "stdout",
          "text": [
            "(32, 299, 299, 3)\n",
            "[56 70 41 69 40 12 25 55 72 64  8 18 74 24 52 69 11 20 24 32 74 16 27 34\n",
            " 74 32  7  6 13 32 38 67]\n"
          ]
        }
      ],
      "source": [
        "import numpy as np\n",
        "\n",
        "for image_batch, labels_batch in dataset.take(1):\n",
        "    print(image_batch.shape)\n",
        "    print(labels_batch.numpy())\n",
        "    break"
      ]
    },
    {
      "cell_type": "code",
      "execution_count": 9,
      "id": "c956dd55-e52c-4a7c-862c-357640a04b7c",
      "metadata": {
        "colab": {
          "base_uri": "https://localhost:8080/"
        },
        "id": "c956dd55-e52c-4a7c-862c-357640a04b7c",
        "outputId": "45e86bdd-c2b9-496e-b9ab-7ab76df80d50"
      },
      "outputs": [
        {
          "output_type": "execute_result",
          "data": {
            "text/plain": [
              "(174, 21, 21)"
            ]
          },
          "metadata": {},
          "execution_count": 9
        }
      ],
      "source": [
        "# train test split\n",
        "train_size = int(0.8 * len(dataset))\n",
        "val_size = int(0.1 * len(dataset))\n",
        "test_size = int(0.1 * len(dataset))\n",
        "train_size, val_size, test_size"
      ]
    },
    {
      "cell_type": "code",
      "execution_count": 10,
      "id": "70d6cf17-814e-41ce-8e58-78fe2bfe6d89",
      "metadata": {
        "id": "70d6cf17-814e-41ce-8e58-78fe2bfe6d89"
      },
      "outputs": [],
      "source": [
        "def get_dataset_partitions_tf(ds, train_split=0.8, val_split=0.1, test_split=0.1, shuffle=True, shuffle_size=10000):\n",
        "    assert (train_split + val_split + test_split) == 1, \"Splits must add up to 1!\"\n",
        "\n",
        "    if shuffle:\n",
        "        ds = ds.shuffle(shuffle_size, seed=12)  # Shuffle the dataset before splitting\n",
        "\n",
        "    train_size = int(train_split * len(ds))\n",
        "    val_size = int(val_split * len(ds))\n",
        "\n",
        "    train_ds = ds.take(train_size)  # First part goes to training\n",
        "    remaining = ds.skip(train_size)  # Skip training data\n",
        "\n",
        "    val_ds = remaining.take(val_size)  # Next part goes to validation\n",
        "    test_ds = remaining.skip(val_size)  # Remaining data goes to test\n",
        "\n",
        "    return train_ds, val_ds, test_ds\n"
      ]
    },
    {
      "cell_type": "code",
      "execution_count": 11,
      "id": "abe21acf-7850-4635-8c91-27c94a088045",
      "metadata": {
        "colab": {
          "base_uri": "https://localhost:8080/"
        },
        "id": "abe21acf-7850-4635-8c91-27c94a088045",
        "outputId": "cebb3044-59f1-456e-b10b-45cd8a354cd5"
      },
      "outputs": [
        {
          "output_type": "execute_result",
          "data": {
            "text/plain": [
              "(174, 21, 23)"
            ]
          },
          "metadata": {},
          "execution_count": 11
        }
      ],
      "source": [
        "\n",
        "train_ds, val_ds, test_ds = get_dataset_partitions_tf(dataset)\n",
        "len(train_ds), len(val_ds), len(test_ds)"
      ]
    },
    {
      "cell_type": "code",
      "execution_count": 12,
      "id": "46142013-0e00-41b6-b10b-2592628c6c08",
      "metadata": {
        "id": "46142013-0e00-41b6-b10b-2592628c6c08"
      },
      "outputs": [],
      "source": [
        "resize_and_rescale = tf.keras.Sequential([\n",
        "    tf.keras.layers.Resizing(299, 299),\n",
        "    tf.keras.layers.Rescaling(1./255)\n",
        "])"
      ]
    },
    {
      "cell_type": "code",
      "execution_count": 13,
      "id": "a34fa0ce-87eb-4174-8686-46ab7841819f",
      "metadata": {
        "colab": {
          "base_uri": "https://localhost:8080/"
        },
        "id": "a34fa0ce-87eb-4174-8686-46ab7841819f",
        "outputId": "8bf9f9a8-552a-4b07-daf0-e2029e52deec"
      },
      "outputs": [
        {
          "output_type": "stream",
          "name": "stdout",
          "text": [
            "Downloading data from https://storage.googleapis.com/tensorflow/keras-applications/xception/xception_weights_tf_dim_ordering_tf_kernels_notop.h5\n",
            "\u001b[1m83683744/83683744\u001b[0m \u001b[32m━━━━━━━━━━━━━━━━━━━━\u001b[0m\u001b[37m\u001b[0m \u001b[1m5s\u001b[0m 0us/step\n"
          ]
        }
      ],
      "source": [
        "# train using Xception\n",
        "base_model = tf.keras.applications.Xception(\n",
        "    weights='imagenet',\n",
        "    input_shape=(299, 299, 3),\n",
        "    include_top=False,\n",
        "    pooling='avg',\n",
        "    classifier_activation='softmax',\n",
        "    classes=len(labels)\n",
        ")"
      ]
    },
    {
      "cell_type": "markdown",
      "id": "12369120",
      "metadata": {
        "id": "12369120"
      },
      "source": [
        "## Model Architecture\n",
        "### Xception Model Overview\n",
        "The Xception model is an advanced deep learning architecture based on the Inception model, characterized by its use of depthwise separable convolutions, which improve model performance while reducing computational costs."
      ]
    },
    {
      "cell_type": "code",
      "execution_count": 14,
      "id": "3cfb1dd7-1bf9-43c5-8011-567c40951c18",
      "metadata": {
        "id": "3cfb1dd7-1bf9-43c5-8011-567c40951c18",
        "colab": {
          "base_uri": "https://localhost:8080/",
          "height": 1000
        },
        "outputId": "d1fe973e-e3b5-4965-cc40-a7d048d5cf7f"
      },
      "outputs": [
        {
          "output_type": "display_data",
          "data": {
            "text/plain": [
              "\u001b[1mModel: \"functional_1\"\u001b[0m\n"
            ],
            "text/html": [
              "<pre style=\"white-space:pre;overflow-x:auto;line-height:normal;font-family:Menlo,'DejaVu Sans Mono',consolas,'Courier New',monospace\"><span style=\"font-weight: bold\">Model: \"functional_1\"</span>\n",
              "</pre>\n"
            ]
          },
          "metadata": {}
        },
        {
          "output_type": "display_data",
          "data": {
            "text/plain": [
              "┏━━━━━━━━━━━━━━━━━━━━━━━━━━━━━━━━━━━━━━┳━━━━━━━━━━━━━━━━━━━━━━━━━━━━━┳━━━━━━━━━━━━━━━━━┓\n",
              "┃\u001b[1m \u001b[0m\u001b[1mLayer (type)                        \u001b[0m\u001b[1m \u001b[0m┃\u001b[1m \u001b[0m\u001b[1mOutput Shape               \u001b[0m\u001b[1m \u001b[0m┃\u001b[1m \u001b[0m\u001b[1m        Param #\u001b[0m\u001b[1m \u001b[0m┃\n",
              "┡━━━━━━━━━━━━━━━━━━━━━━━━━━━━━━━━━━━━━━╇━━━━━━━━━━━━━━━━━━━━━━━━━━━━━╇━━━━━━━━━━━━━━━━━┩\n",
              "│ input_layer_1 (\u001b[38;5;33mInputLayer\u001b[0m)           │ (\u001b[38;5;45mNone\u001b[0m, \u001b[38;5;34m299\u001b[0m, \u001b[38;5;34m299\u001b[0m, \u001b[38;5;34m3\u001b[0m)         │               \u001b[38;5;34m0\u001b[0m │\n",
              "├──────────────────────────────────────┼─────────────────────────────┼─────────────────┤\n",
              "│ sequential (\u001b[38;5;33mSequential\u001b[0m)              │ (\u001b[38;5;45mNone\u001b[0m, \u001b[38;5;34m299\u001b[0m, \u001b[38;5;34m299\u001b[0m, \u001b[38;5;34m3\u001b[0m)         │               \u001b[38;5;34m0\u001b[0m │\n",
              "├──────────────────────────────────────┼─────────────────────────────┼─────────────────┤\n",
              "│ xception (\u001b[38;5;33mFunctional\u001b[0m)                │ (\u001b[38;5;45mNone\u001b[0m, \u001b[38;5;34m2048\u001b[0m)                │      \u001b[38;5;34m20,861,480\u001b[0m │\n",
              "├──────────────────────────────────────┼─────────────────────────────┼─────────────────┤\n",
              "│ dense (\u001b[38;5;33mDense\u001b[0m)                        │ (\u001b[38;5;45mNone\u001b[0m, \u001b[38;5;34m128\u001b[0m)                 │         \u001b[38;5;34m262,272\u001b[0m │\n",
              "├──────────────────────────────────────┼─────────────────────────────┼─────────────────┤\n",
              "│ dropout (\u001b[38;5;33mDropout\u001b[0m)                    │ (\u001b[38;5;45mNone\u001b[0m, \u001b[38;5;34m128\u001b[0m)                 │               \u001b[38;5;34m0\u001b[0m │\n",
              "├──────────────────────────────────────┼─────────────────────────────┼─────────────────┤\n",
              "│ dense_1 (\u001b[38;5;33mDense\u001b[0m)                      │ (\u001b[38;5;45mNone\u001b[0m, \u001b[38;5;34m80\u001b[0m)                  │          \u001b[38;5;34m10,320\u001b[0m │\n",
              "└──────────────────────────────────────┴─────────────────────────────┴─────────────────┘\n"
            ],
            "text/html": [
              "<pre style=\"white-space:pre;overflow-x:auto;line-height:normal;font-family:Menlo,'DejaVu Sans Mono',consolas,'Courier New',monospace\">┏━━━━━━━━━━━━━━━━━━━━━━━━━━━━━━━━━━━━━━┳━━━━━━━━━━━━━━━━━━━━━━━━━━━━━┳━━━━━━━━━━━━━━━━━┓\n",
              "┃<span style=\"font-weight: bold\"> Layer (type)                         </span>┃<span style=\"font-weight: bold\"> Output Shape                </span>┃<span style=\"font-weight: bold\">         Param # </span>┃\n",
              "┡━━━━━━━━━━━━━━━━━━━━━━━━━━━━━━━━━━━━━━╇━━━━━━━━━━━━━━━━━━━━━━━━━━━━━╇━━━━━━━━━━━━━━━━━┩\n",
              "│ input_layer_1 (<span style=\"color: #0087ff; text-decoration-color: #0087ff\">InputLayer</span>)           │ (<span style=\"color: #00d7ff; text-decoration-color: #00d7ff\">None</span>, <span style=\"color: #00af00; text-decoration-color: #00af00\">299</span>, <span style=\"color: #00af00; text-decoration-color: #00af00\">299</span>, <span style=\"color: #00af00; text-decoration-color: #00af00\">3</span>)         │               <span style=\"color: #00af00; text-decoration-color: #00af00\">0</span> │\n",
              "├──────────────────────────────────────┼─────────────────────────────┼─────────────────┤\n",
              "│ sequential (<span style=\"color: #0087ff; text-decoration-color: #0087ff\">Sequential</span>)              │ (<span style=\"color: #00d7ff; text-decoration-color: #00d7ff\">None</span>, <span style=\"color: #00af00; text-decoration-color: #00af00\">299</span>, <span style=\"color: #00af00; text-decoration-color: #00af00\">299</span>, <span style=\"color: #00af00; text-decoration-color: #00af00\">3</span>)         │               <span style=\"color: #00af00; text-decoration-color: #00af00\">0</span> │\n",
              "├──────────────────────────────────────┼─────────────────────────────┼─────────────────┤\n",
              "│ xception (<span style=\"color: #0087ff; text-decoration-color: #0087ff\">Functional</span>)                │ (<span style=\"color: #00d7ff; text-decoration-color: #00d7ff\">None</span>, <span style=\"color: #00af00; text-decoration-color: #00af00\">2048</span>)                │      <span style=\"color: #00af00; text-decoration-color: #00af00\">20,861,480</span> │\n",
              "├──────────────────────────────────────┼─────────────────────────────┼─────────────────┤\n",
              "│ dense (<span style=\"color: #0087ff; text-decoration-color: #0087ff\">Dense</span>)                        │ (<span style=\"color: #00d7ff; text-decoration-color: #00d7ff\">None</span>, <span style=\"color: #00af00; text-decoration-color: #00af00\">128</span>)                 │         <span style=\"color: #00af00; text-decoration-color: #00af00\">262,272</span> │\n",
              "├──────────────────────────────────────┼─────────────────────────────┼─────────────────┤\n",
              "│ dropout (<span style=\"color: #0087ff; text-decoration-color: #0087ff\">Dropout</span>)                    │ (<span style=\"color: #00d7ff; text-decoration-color: #00d7ff\">None</span>, <span style=\"color: #00af00; text-decoration-color: #00af00\">128</span>)                 │               <span style=\"color: #00af00; text-decoration-color: #00af00\">0</span> │\n",
              "├──────────────────────────────────────┼─────────────────────────────┼─────────────────┤\n",
              "│ dense_1 (<span style=\"color: #0087ff; text-decoration-color: #0087ff\">Dense</span>)                      │ (<span style=\"color: #00d7ff; text-decoration-color: #00d7ff\">None</span>, <span style=\"color: #00af00; text-decoration-color: #00af00\">80</span>)                  │          <span style=\"color: #00af00; text-decoration-color: #00af00\">10,320</span> │\n",
              "└──────────────────────────────────────┴─────────────────────────────┴─────────────────┘\n",
              "</pre>\n"
            ]
          },
          "metadata": {}
        },
        {
          "output_type": "display_data",
          "data": {
            "text/plain": [
              "\u001b[1m Total params: \u001b[0m\u001b[38;5;34m21,134,072\u001b[0m (80.62 MB)\n"
            ],
            "text/html": [
              "<pre style=\"white-space:pre;overflow-x:auto;line-height:normal;font-family:Menlo,'DejaVu Sans Mono',consolas,'Courier New',monospace\"><span style=\"font-weight: bold\"> Total params: </span><span style=\"color: #00af00; text-decoration-color: #00af00\">21,134,072</span> (80.62 MB)\n",
              "</pre>\n"
            ]
          },
          "metadata": {}
        },
        {
          "output_type": "display_data",
          "data": {
            "text/plain": [
              "\u001b[1m Trainable params: \u001b[0m\u001b[38;5;34m272,592\u001b[0m (1.04 MB)\n"
            ],
            "text/html": [
              "<pre style=\"white-space:pre;overflow-x:auto;line-height:normal;font-family:Menlo,'DejaVu Sans Mono',consolas,'Courier New',monospace\"><span style=\"font-weight: bold\"> Trainable params: </span><span style=\"color: #00af00; text-decoration-color: #00af00\">272,592</span> (1.04 MB)\n",
              "</pre>\n"
            ]
          },
          "metadata": {}
        },
        {
          "output_type": "display_data",
          "data": {
            "text/plain": [
              "\u001b[1m Non-trainable params: \u001b[0m\u001b[38;5;34m20,861,480\u001b[0m (79.58 MB)\n"
            ],
            "text/html": [
              "<pre style=\"white-space:pre;overflow-x:auto;line-height:normal;font-family:Menlo,'DejaVu Sans Mono',consolas,'Courier New',monospace\"><span style=\"font-weight: bold\"> Non-trainable params: </span><span style=\"color: #00af00; text-decoration-color: #00af00\">20,861,480</span> (79.58 MB)\n",
              "</pre>\n"
            ]
          },
          "metadata": {}
        },
        {
          "output_type": "stream",
          "name": "stdout",
          "text": [
            "Epoch 1/25\n",
            "\u001b[1m174/174\u001b[0m \u001b[32m━━━━━━━━━━━━━━━━━━━━\u001b[0m\u001b[37m\u001b[0m \u001b[1m483s\u001b[0m 333ms/step - accuracy: 0.1201 - loss: 3.9200 - val_accuracy: 0.5580 - val_loss: 2.0862\n",
            "Epoch 2/25\n",
            "\u001b[1m174/174\u001b[0m \u001b[32m━━━━━━━━━━━━━━━━━━━━\u001b[0m\u001b[37m\u001b[0m \u001b[1m66s\u001b[0m 206ms/step - accuracy: 0.4806 - loss: 2.1622 - val_accuracy: 0.7054 - val_loss: 1.3789\n",
            "Epoch 3/25\n",
            "\u001b[1m174/174\u001b[0m \u001b[32m━━━━━━━━━━━━━━━━━━━━\u001b[0m\u001b[37m\u001b[0m \u001b[1m65s\u001b[0m 204ms/step - accuracy: 0.6302 - loss: 1.4788 - val_accuracy: 0.8006 - val_loss: 0.9346\n",
            "Epoch 4/25\n",
            "\u001b[1m174/174\u001b[0m \u001b[32m━━━━━━━━━━━━━━━━━━━━\u001b[0m\u001b[37m\u001b[0m \u001b[1m66s\u001b[0m 206ms/step - accuracy: 0.7131 - loss: 1.1338 - val_accuracy: 0.8631 - val_loss: 0.7053\n",
            "Epoch 5/25\n",
            "\u001b[1m174/174\u001b[0m \u001b[32m━━━━━━━━━━━━━━━━━━━━\u001b[0m\u001b[37m\u001b[0m \u001b[1m66s\u001b[0m 206ms/step - accuracy: 0.7557 - loss: 0.9141 - val_accuracy: 0.8780 - val_loss: 0.5629\n",
            "Epoch 6/25\n",
            "\u001b[1m174/174\u001b[0m \u001b[32m━━━━━━━━━━━━━━━━━━━━\u001b[0m\u001b[37m\u001b[0m \u001b[1m66s\u001b[0m 206ms/step - accuracy: 0.8077 - loss: 0.7559 - val_accuracy: 0.9271 - val_loss: 0.4327\n",
            "Epoch 7/25\n",
            "\u001b[1m174/174\u001b[0m \u001b[32m━━━━━━━━━━━━━━━━━━━━\u001b[0m\u001b[37m\u001b[0m \u001b[1m66s\u001b[0m 206ms/step - accuracy: 0.8373 - loss: 0.6342 - val_accuracy: 0.9286 - val_loss: 0.3586\n",
            "Epoch 8/25\n",
            "\u001b[1m174/174\u001b[0m \u001b[32m━━━━━━━━━━━━━━━━━━━━\u001b[0m\u001b[37m\u001b[0m \u001b[1m66s\u001b[0m 206ms/step - accuracy: 0.8622 - loss: 0.5371 - val_accuracy: 0.9598 - val_loss: 0.3102\n",
            "Epoch 9/25\n",
            "\u001b[1m174/174\u001b[0m \u001b[32m━━━━━━━━━━━━━━━━━━━━\u001b[0m\u001b[37m\u001b[0m \u001b[1m66s\u001b[0m 206ms/step - accuracy: 0.8834 - loss: 0.4776 - val_accuracy: 0.9524 - val_loss: 0.2855\n",
            "Epoch 10/25\n",
            "\u001b[1m174/174\u001b[0m \u001b[32m━━━━━━━━━━━━━━━━━━━━\u001b[0m\u001b[37m\u001b[0m \u001b[1m66s\u001b[0m 206ms/step - accuracy: 0.8854 - loss: 0.4512 - val_accuracy: 0.9658 - val_loss: 0.2116\n",
            "Epoch 11/25\n",
            "\u001b[1m174/174\u001b[0m \u001b[32m━━━━━━━━━━━━━━━━━━━━\u001b[0m\u001b[37m\u001b[0m \u001b[1m66s\u001b[0m 206ms/step - accuracy: 0.9016 - loss: 0.3816 - val_accuracy: 0.9836 - val_loss: 0.1571\n",
            "Epoch 12/25\n",
            "\u001b[1m174/174\u001b[0m \u001b[32m━━━━━━━━━━━━━━━━━━━━\u001b[0m\u001b[37m\u001b[0m \u001b[1m66s\u001b[0m 206ms/step - accuracy: 0.9177 - loss: 0.3487 - val_accuracy: 0.9717 - val_loss: 0.1855\n",
            "Epoch 13/25\n",
            "\u001b[1m174/174\u001b[0m \u001b[32m━━━━━━━━━━━━━━━━━━━━\u001b[0m\u001b[37m\u001b[0m \u001b[1m66s\u001b[0m 206ms/step - accuracy: 0.9297 - loss: 0.2917 - val_accuracy: 0.9792 - val_loss: 0.1311\n",
            "Epoch 14/25\n",
            "\u001b[1m174/174\u001b[0m \u001b[32m━━━━━━━━━━━━━━━━━━━━\u001b[0m\u001b[37m\u001b[0m \u001b[1m66s\u001b[0m 206ms/step - accuracy: 0.9265 - loss: 0.2894 - val_accuracy: 0.9807 - val_loss: 0.1241\n",
            "Epoch 15/25\n",
            "\u001b[1m174/174\u001b[0m \u001b[32m━━━━━━━━━━━━━━━━━━━━\u001b[0m\u001b[37m\u001b[0m \u001b[1m66s\u001b[0m 207ms/step - accuracy: 0.9422 - loss: 0.2379 - val_accuracy: 0.9896 - val_loss: 0.1042\n",
            "Epoch 16/25\n",
            "\u001b[1m174/174\u001b[0m \u001b[32m━━━━━━━━━━━━━━━━━━━━\u001b[0m\u001b[37m\u001b[0m \u001b[1m66s\u001b[0m 206ms/step - accuracy: 0.9474 - loss: 0.2273 - val_accuracy: 0.9851 - val_loss: 0.0892\n",
            "Epoch 17/25\n",
            "\u001b[1m174/174\u001b[0m \u001b[32m━━━━━━━━━━━━━━━━━━━━\u001b[0m\u001b[37m\u001b[0m \u001b[1m66s\u001b[0m 207ms/step - accuracy: 0.9516 - loss: 0.1966 - val_accuracy: 0.9955 - val_loss: 0.0693\n",
            "Epoch 18/25\n",
            "\u001b[1m174/174\u001b[0m \u001b[32m━━━━━━━━━━━━━━━━━━━━\u001b[0m\u001b[37m\u001b[0m \u001b[1m66s\u001b[0m 208ms/step - accuracy: 0.9505 - loss: 0.2004 - val_accuracy: 0.9926 - val_loss: 0.0594\n",
            "Epoch 19/25\n",
            "\u001b[1m174/174\u001b[0m \u001b[32m━━━━━━━━━━━━━━━━━━━━\u001b[0m\u001b[37m\u001b[0m \u001b[1m66s\u001b[0m 207ms/step - accuracy: 0.9585 - loss: 0.1735 - val_accuracy: 0.9985 - val_loss: 0.0509\n",
            "Epoch 20/25\n",
            "\u001b[1m174/174\u001b[0m \u001b[32m━━━━━━━━━━━━━━━━━━━━\u001b[0m\u001b[37m\u001b[0m \u001b[1m66s\u001b[0m 208ms/step - accuracy: 0.9667 - loss: 0.1528 - val_accuracy: 0.9970 - val_loss: 0.0448\n",
            "Epoch 21/25\n",
            "\u001b[1m174/174\u001b[0m \u001b[32m━━━━━━━━━━━━━━━━━━━━\u001b[0m\u001b[37m\u001b[0m \u001b[1m66s\u001b[0m 207ms/step - accuracy: 0.9605 - loss: 0.1558 - val_accuracy: 0.9985 - val_loss: 0.0422\n",
            "Epoch 22/25\n",
            "\u001b[1m174/174\u001b[0m \u001b[32m━━━━━━━━━━━━━━━━━━━━\u001b[0m\u001b[37m\u001b[0m \u001b[1m69s\u001b[0m 222ms/step - accuracy: 0.9688 - loss: 0.1381 - val_accuracy: 0.9985 - val_loss: 0.0388\n",
            "Epoch 23/25\n",
            "\u001b[1m174/174\u001b[0m \u001b[32m━━━━━━━━━━━━━━━━━━━━\u001b[0m\u001b[37m\u001b[0m \u001b[1m66s\u001b[0m 206ms/step - accuracy: 0.9679 - loss: 0.1353 - val_accuracy: 1.0000 - val_loss: 0.0335\n",
            "Epoch 24/25\n",
            "\u001b[1m174/174\u001b[0m \u001b[32m━━━━━━━━━━━━━━━━━━━━\u001b[0m\u001b[37m\u001b[0m \u001b[1m66s\u001b[0m 206ms/step - accuracy: 0.9753 - loss: 0.1152 - val_accuracy: 1.0000 - val_loss: 0.0264\n",
            "Epoch 25/25\n",
            "\u001b[1m174/174\u001b[0m \u001b[32m━━━━━━━━━━━━━━━━━━━━\u001b[0m\u001b[37m\u001b[0m \u001b[1m66s\u001b[0m 207ms/step - accuracy: 0.9761 - loss: 0.1084 - val_accuracy: 0.9985 - val_loss: 0.0224\n"
          ]
        }
      ],
      "source": [
        "base_model.trainable = False\n",
        "\n",
        "inputs = tf.keras.Input(shape=(299, 299, 3))\n",
        "x = resize_and_rescale(inputs)\n",
        "x = base_model(x, training=False)\n",
        "x = tf.keras.layers.Dense(128, activation='relu')(x)\n",
        "x = tf.keras.layers.Dropout(0.2)(x)\n",
        "outputs = tf.keras.layers.Dense(len(labels), activation='softmax')(x)\n",
        "model = tf.keras.Model(inputs, outputs)\n",
        "\n",
        "model.compile(\n",
        "    optimizer='adam',\n",
        "    loss='sparse_categorical_crossentropy',\n",
        "    metrics=['accuracy']\n",
        ")\n",
        "\n",
        "model.summary()\n",
        "\n",
        "history = model.fit(\n",
        "    train_ds,\n",
        "    validation_data=val_ds,\n",
        "    batch_size=32,\n",
        "    epochs=25\n",
        ")"
      ]
    },
    {
      "cell_type": "code",
      "execution_count": 15,
      "id": "f4c7e337-a4e1-4860-a2fb-1a707a910720",
      "metadata": {
        "id": "f4c7e337-a4e1-4860-a2fb-1a707a910720",
        "colab": {
          "base_uri": "https://localhost:8080/"
        },
        "outputId": "902cb2d3-ca60-4900-eaa4-b558920c1eb0"
      },
      "outputs": [
        {
          "output_type": "stream",
          "name": "stdout",
          "text": [
            "\u001b[1m23/23\u001b[0m \u001b[32m━━━━━━━━━━━━━━━━━━━━\u001b[0m\u001b[37m\u001b[0m \u001b[1m31s\u001b[0m 29ms/step - accuracy: 0.9994 - loss: 0.0295\n"
          ]
        },
        {
          "output_type": "execute_result",
          "data": {
            "text/plain": [
              "[0.030085233971476555, 0.998641312122345]"
            ]
          },
          "metadata": {},
          "execution_count": 15
        }
      ],
      "source": [
        "model.evaluate(test_ds)"
      ]
    },
    {
      "cell_type": "markdown",
      "id": "8573c7b8",
      "metadata": {
        "id": "8573c7b8"
      },
      "source": [
        "## Testing the Model with Known Data\n",
        "\n",
        "### Objective\n",
        "The purpose of this section is to evaluate the performance of the trained Xception model on a test dataset containing images of leaves whose species are already known. This evaluation helps assess the model's accuracy and reliability in real-world scenarios.\n"
      ]
    },
    {
      "cell_type": "code",
      "execution_count": 16,
      "id": "769a82f6-5a99-42ae-a148-50f10737697d",
      "metadata": {
        "id": "769a82f6-5a99-42ae-a148-50f10737697d",
        "colab": {
          "base_uri": "https://localhost:8080/"
        },
        "outputId": "2cb3a5c5-52e6-44fe-8213-a56372c13cad"
      },
      "outputs": [
        {
          "output_type": "stream",
          "name": "stdout",
          "text": [
            "\u001b[1m1/1\u001b[0m \u001b[32m━━━━━━━━━━━━━━━━━━━━\u001b[0m\u001b[37m\u001b[0m \u001b[1m3s\u001b[0m 3s/step\n",
            "This image most likely belongs to Neem with a 72.44 percent confidence.\n"
          ]
        }
      ],
      "source": [
        "# predict with new images\n",
        "import numpy as np\n",
        "\n",
        "img = tf.keras.preprocessing.image.load_img(\n",
        "    '//content//drive//MyDrive//LEAFLENS//Medicinal Leaf dataset/Neem/1004.jpg', target_size=(299, 299)\n",
        ")\n",
        "img_array = tf.keras.preprocessing.image.img_to_array(img)\n",
        "img_array = tf.expand_dims(img_array, 0)  # Create a batch\n",
        "\n",
        "\n",
        "predictions = model.predict(img_array)\n",
        "score = tf.nn.sigmoid(predictions[0])\n",
        "print(\n",
        "    \"This image most likely belongs to {} with a {:.2f} percent confidence.\"\n",
        "    .format(labels[np.argmax(score)], 100 * np.max(score))\n",
        ")"
      ]
    },
    {
      "cell_type": "code",
      "execution_count": 17,
      "id": "64c5ac86-6281-45af-931d-55a96b15f1e0",
      "metadata": {
        "id": "64c5ac86-6281-45af-931d-55a96b15f1e0",
        "colab": {
          "base_uri": "https://localhost:8080/",
          "height": 472
        },
        "outputId": "ab6cba10-a527-42b9-accc-ed1d3a6099a2"
      },
      "outputs": [
        {
          "output_type": "display_data",
          "data": {
            "text/plain": [
              "<Figure size 640x480 with 1 Axes>"
            ],
            "image/png": "[encoded data removed]"
          },
          "metadata": {}
        }
      ],
      "source": [
        "# plot accuracy and loss\n",
        "import matplotlib.pyplot as plt\n",
        "\n",
        "plt.plot(history.history['accuracy'])\n",
        "plt.plot(history.history['val_accuracy'])\n",
        "\n",
        "plt.title('model accuracy')\n",
        "plt.ylabel('accuracy')\n",
        "plt.xlabel('epoch')\n",
        "plt.legend(['train', 'val'], loc='upper left')\n",
        "plt.show()"
      ]
    },
    {
      "cell_type": "markdown",
      "id": "43d1980c",
      "metadata": {
        "id": "43d1980c"
      },
      "source": [
        "## Saving the Model\n",
        "After training the Xception model, it is essential to save the model's architecture, weights, and training configuration for future use, such as inference, further training, or deployment. This section outlines the methods for saving the model using TensorFlow/Keras.\n"
      ]
    },
    {
      "cell_type": "code",
      "execution_count": 19,
      "id": "b3163e28-47eb-4b94-b4f1-2239dae8695f",
      "metadata": {
        "id": "b3163e28-47eb-4b94-b4f1-2239dae8695f"
      },
      "outputs": [],
      "source": [
        "model.save('xception_model.keras')"
      ]
    },
    {
      "cell_type": "markdown",
      "id": "a03ab06b",
      "metadata": {
        "id": "a03ab06b"
      },
      "source": [
        "### Conclusion\n",
        "Saving the model and its weights allows for efficient use of the trained model in future applications. By following the methods outlined in this section, you can ensure that your model is preserved and easily retrievable for later use, whether for inference or continued training.\n",
        "\n",
        "We will integrate this model with a camera module to enable real-time identification of leaves, enhancing its practical applications in biodiversity research and education.\n"
      ]
    }
  ],
  "metadata": {
    "kernelspec": {
      "display_name": "Python 3",
      "name": "python3"
    },
    "language_info": {
      "codemirror_mode": {
        "name": "ipython",
        "version": 3
      },
      "file_extension": ".py",
      "mimetype": "text/x-python",
      "name": "python",
      "nbconvert_exporter": "python",
      "pygments_lexer": "ipython3",
      "version": "3.12.0"
    },
    "colab": {
      "provenance": [],
      "gpuType": "A100",
      "machine_shape": "hm"
    },
    "accelerator": "GPU"
  },
  "nbformat": 4,
  "nbformat_minor": 5
}